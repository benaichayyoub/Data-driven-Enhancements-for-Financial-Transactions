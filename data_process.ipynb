{
 "cells": [
  {
   "cell_type": "code",
   "execution_count": 2,
   "metadata": {},
   "outputs": [],
   "source": [
    "import pandas as pd \n",
    "import numpy as np \n",
    "import matplotlib.pyplot as plt \n"
   ]
  },
  {
   "cell_type": "markdown",
   "metadata": {},
   "source": [
    "## Importing Data"
   ]
  },
  {
   "cell_type": "code",
   "execution_count": 38,
   "metadata": {},
   "outputs": [
    {
     "data": {
      "text/html": [
       "<div>\n",
       "<style scoped>\n",
       "    .dataframe tbody tr th:only-of-type {\n",
       "        vertical-align: middle;\n",
       "    }\n",
       "\n",
       "    .dataframe tbody tr th {\n",
       "        vertical-align: top;\n",
       "    }\n",
       "\n",
       "    .dataframe thead th {\n",
       "        text-align: right;\n",
       "    }\n",
       "</style>\n",
       "<table border=\"1\" class=\"dataframe\">\n",
       "  <thead>\n",
       "    <tr style=\"text-align: right;\">\n",
       "      <th></th>\n",
       "      <th>Unnamed: 0</th>\n",
       "      <th>Date</th>\n",
       "      <th>ID_User</th>\n",
       "      <th>Type</th>\n",
       "      <th>Amount</th>\n",
       "      <th>Status</th>\n",
       "      <th>Volume</th>\n",
       "    </tr>\n",
       "  </thead>\n",
       "  <tbody>\n",
       "    <tr>\n",
       "      <th>0</th>\n",
       "      <td>0</td>\n",
       "      <td>2021-01-01</td>\n",
       "      <td>1</td>\n",
       "      <td>Recharge</td>\n",
       "      <td>1.000000</td>\n",
       "      <td>1</td>\n",
       "      <td>100.000000</td>\n",
       "    </tr>\n",
       "    <tr>\n",
       "      <th>1</th>\n",
       "      <td>1</td>\n",
       "      <td>2021-01-01</td>\n",
       "      <td>2</td>\n",
       "      <td>Recharge</td>\n",
       "      <td>1.000000</td>\n",
       "      <td>1</td>\n",
       "      <td>100.000000</td>\n",
       "    </tr>\n",
       "    <tr>\n",
       "      <th>2</th>\n",
       "      <td>2</td>\n",
       "      <td>2021-01-01</td>\n",
       "      <td>7</td>\n",
       "      <td>Recharge</td>\n",
       "      <td>1.143444</td>\n",
       "      <td>1</td>\n",
       "      <td>114.344384</td>\n",
       "    </tr>\n",
       "    <tr>\n",
       "      <th>3</th>\n",
       "      <td>3</td>\n",
       "      <td>2021-01-01</td>\n",
       "      <td>10</td>\n",
       "      <td>Recharge</td>\n",
       "      <td>1.169300</td>\n",
       "      <td>1</td>\n",
       "      <td>116.929957</td>\n",
       "    </tr>\n",
       "    <tr>\n",
       "      <th>4</th>\n",
       "      <td>4</td>\n",
       "      <td>2021-01-01</td>\n",
       "      <td>11</td>\n",
       "      <td>Recharge</td>\n",
       "      <td>1.994728</td>\n",
       "      <td>1</td>\n",
       "      <td>199.472785</td>\n",
       "    </tr>\n",
       "  </tbody>\n",
       "</table>\n",
       "</div>"
      ],
      "text/plain": [
       "   Unnamed: 0       Date  ID_User      Type    Amount  Status      Volume\n",
       "0           0 2021-01-01        1  Recharge  1.000000       1  100.000000\n",
       "1           1 2021-01-01        2  Recharge  1.000000       1  100.000000\n",
       "2           2 2021-01-01        7  Recharge  1.143444       1  114.344384\n",
       "3           3 2021-01-01       10  Recharge  1.169300       1  116.929957\n",
       "4           4 2021-01-01       11  Recharge  1.994728       1  199.472785"
      ]
     },
     "execution_count": 38,
     "metadata": {},
     "output_type": "execute_result"
    }
   ],
   "source": [
    "df = pd.read_excel(\"da.xlsx\")\n",
    "df.head()"
   ]
  },
  {
   "cell_type": "markdown",
   "metadata": {},
   "source": [
    "## Inspecting and Validation of Data "
   ]
  },
  {
   "cell_type": "code",
   "execution_count": 4,
   "metadata": {},
   "outputs": [
    {
     "name": "stdout",
     "output_type": "stream",
     "text": [
      "<class 'pandas.core.frame.DataFrame'>\n",
      "RangeIndex: 1048575 entries, 0 to 1048574\n",
      "Data columns (total 7 columns):\n",
      " #   Column      Non-Null Count    Dtype         \n",
      "---  ------      --------------    -----         \n",
      " 0   Unnamed: 0  1048575 non-null  int64         \n",
      " 1   Date        1048575 non-null  datetime64[ns]\n",
      " 2   ID_User     1048575 non-null  int64         \n",
      " 3   Type        1048575 non-null  object        \n",
      " 4   Amount      1048575 non-null  float64       \n",
      " 5   Status      1048575 non-null  int64         \n",
      " 6   Volume      1048575 non-null  float64       \n",
      "dtypes: datetime64[ns](1), float64(2), int64(3), object(1)\n",
      "memory usage: 56.0+ MB\n"
     ]
    }
   ],
   "source": [
    "df.info()"
   ]
  },
  {
   "cell_type": "code",
   "execution_count": 40,
   "metadata": {},
   "outputs": [],
   "source": [
    "# useless Column unnamed :\n",
    "df.drop(columns= [\"Unnamed: 0\"], inplace= True)"
   ]
  },
  {
   "cell_type": "code",
   "execution_count": 6,
   "metadata": {},
   "outputs": [
    {
     "name": "stdout",
     "output_type": "stream",
     "text": [
      "<class 'pandas.core.frame.DataFrame'>\n",
      "RangeIndex: 1048575 entries, 0 to 1048574\n",
      "Data columns (total 6 columns):\n",
      " #   Column   Non-Null Count    Dtype         \n",
      "---  ------   --------------    -----         \n",
      " 0   Date     1048575 non-null  datetime64[ns]\n",
      " 1   ID_User  1048575 non-null  int64         \n",
      " 2   Type     1048575 non-null  object        \n",
      " 3   Amount   1048575 non-null  float64       \n",
      " 4   Status   1048575 non-null  int64         \n",
      " 5   Volume   1048575 non-null  float64       \n",
      "dtypes: datetime64[ns](1), float64(2), int64(2), object(1)\n",
      "memory usage: 48.0+ MB\n"
     ]
    }
   ],
   "source": [
    "df.info()"
   ]
  },
  {
   "cell_type": "code",
   "execution_count": 7,
   "metadata": {},
   "outputs": [
    {
     "data": {
      "text/html": [
       "<div>\n",
       "<style scoped>\n",
       "    .dataframe tbody tr th:only-of-type {\n",
       "        vertical-align: middle;\n",
       "    }\n",
       "\n",
       "    .dataframe tbody tr th {\n",
       "        vertical-align: top;\n",
       "    }\n",
       "\n",
       "    .dataframe thead th {\n",
       "        text-align: right;\n",
       "    }\n",
       "</style>\n",
       "<table border=\"1\" class=\"dataframe\">\n",
       "  <thead>\n",
       "    <tr style=\"text-align: right;\">\n",
       "      <th></th>\n",
       "      <th>Date</th>\n",
       "      <th>ID_User</th>\n",
       "      <th>Type</th>\n",
       "      <th>Amount</th>\n",
       "      <th>Status</th>\n",
       "      <th>Volume</th>\n",
       "    </tr>\n",
       "  </thead>\n",
       "  <tbody>\n",
       "    <tr>\n",
       "      <th>0</th>\n",
       "      <td>2021-01-01</td>\n",
       "      <td>1</td>\n",
       "      <td>Recharge</td>\n",
       "      <td>1.000000</td>\n",
       "      <td>1</td>\n",
       "      <td>100.000000</td>\n",
       "    </tr>\n",
       "    <tr>\n",
       "      <th>1</th>\n",
       "      <td>2021-01-01</td>\n",
       "      <td>2</td>\n",
       "      <td>Recharge</td>\n",
       "      <td>1.000000</td>\n",
       "      <td>1</td>\n",
       "      <td>100.000000</td>\n",
       "    </tr>\n",
       "    <tr>\n",
       "      <th>2</th>\n",
       "      <td>2021-01-01</td>\n",
       "      <td>7</td>\n",
       "      <td>Recharge</td>\n",
       "      <td>1.143444</td>\n",
       "      <td>1</td>\n",
       "      <td>114.344384</td>\n",
       "    </tr>\n",
       "    <tr>\n",
       "      <th>3</th>\n",
       "      <td>2021-01-01</td>\n",
       "      <td>10</td>\n",
       "      <td>Recharge</td>\n",
       "      <td>1.169300</td>\n",
       "      <td>1</td>\n",
       "      <td>116.929957</td>\n",
       "    </tr>\n",
       "    <tr>\n",
       "      <th>4</th>\n",
       "      <td>2021-01-01</td>\n",
       "      <td>11</td>\n",
       "      <td>Recharge</td>\n",
       "      <td>1.994728</td>\n",
       "      <td>1</td>\n",
       "      <td>199.472785</td>\n",
       "    </tr>\n",
       "  </tbody>\n",
       "</table>\n",
       "</div>"
      ],
      "text/plain": [
       "        Date  ID_User      Type    Amount  Status      Volume\n",
       "0 2021-01-01        1  Recharge  1.000000       1  100.000000\n",
       "1 2021-01-01        2  Recharge  1.000000       1  100.000000\n",
       "2 2021-01-01        7  Recharge  1.143444       1  114.344384\n",
       "3 2021-01-01       10  Recharge  1.169300       1  116.929957\n",
       "4 2021-01-01       11  Recharge  1.994728       1  199.472785"
      ]
     },
     "execution_count": 7,
     "metadata": {},
     "output_type": "execute_result"
    }
   ],
   "source": [
    "df.head()"
   ]
  },
  {
   "cell_type": "markdown",
   "metadata": {},
   "source": [
    "#### Checking missing Values "
   ]
  },
  {
   "cell_type": "code",
   "execution_count": 8,
   "metadata": {},
   "outputs": [
    {
     "data": {
      "text/plain": [
       "Date       0\n",
       "ID_User    0\n",
       "Type       0\n",
       "Amount     0\n",
       "Status     0\n",
       "Volume     0\n",
       "dtype: int64"
      ]
     },
     "execution_count": 8,
     "metadata": {},
     "output_type": "execute_result"
    }
   ],
   "source": [
    "df.isna().sum()"
   ]
  },
  {
   "cell_type": "markdown",
   "metadata": {},
   "source": [
    "##### No missing values but some attributes especially String attributes (attribute: Type) may interpret for example space string (\" \") as non null, let's validate that all the entries are valid (Type in [Recharge, RTP])"
   ]
  },
  {
   "cell_type": "code",
   "execution_count": 9,
   "metadata": {},
   "outputs": [
    {
     "data": {
      "text/plain": [
       "array(['Recharge', 'RTP'], dtype=object)"
      ]
     },
     "execution_count": 9,
     "metadata": {},
     "output_type": "execute_result"
    }
   ],
   "source": [
    "df[\"Type\"].unique()"
   ]
  },
  {
   "cell_type": "code",
   "execution_count": 10,
   "metadata": {},
   "outputs": [
    {
     "data": {
      "text/plain": [
       "array([1, 0], dtype=int64)"
      ]
     },
     "execution_count": 10,
     "metadata": {},
     "output_type": "execute_result"
    }
   ],
   "source": [
    "df[\"Status\"].unique()"
   ]
  },
  {
   "cell_type": "markdown",
   "metadata": {},
   "source": [
    "##### No missing values founded"
   ]
  },
  {
   "cell_type": "markdown",
   "metadata": {},
   "source": [
    "#### Checking Duplicates : \n",
    "##### Removing duplicates is a must in the data quality checking process, **But** It is completely the opposit in our case, removing duplicates in this case will cause information loss, that is because, for example, a client could recharge his account multiple times (multiple operations) in the same day with the same ammount, resulting several records with the same data, _thus we should not remove the duplicated rows_"
   ]
  },
  {
   "cell_type": "markdown",
   "metadata": {},
   "source": [
    "#### Luckily, The Data is clean and ready for analysis "
   ]
  },
  {
   "cell_type": "markdown",
   "metadata": {},
   "source": [
    "## Data Analysis :"
   ]
  },
  {
   "cell_type": "markdown",
   "metadata": {},
   "source": [
    "#### Daily Number of Operation : Recharge and RTP "
   ]
  },
  {
   "cell_type": "code",
   "execution_count": 11,
   "metadata": {},
   "outputs": [
    {
     "data": {
      "text/plain": [
       "Date        Type    \n",
       "2021-01-01  Recharge    3836\n",
       "2021-01-02  Recharge    3849\n",
       "2021-01-03  Recharge    4027\n",
       "2021-01-04  Recharge    3939\n",
       "2021-01-05  Recharge    3741\n",
       "                        ... \n",
       "2021-05-13  Recharge    3856\n",
       "2021-05-14  RTP         3798\n",
       "            Recharge    4020\n",
       "2021-05-15  RTP         1072\n",
       "            Recharge     821\n",
       "Name: Volume, Length: 265, dtype: int64"
      ]
     },
     "execution_count": 11,
     "metadata": {},
     "output_type": "execute_result"
    }
   ],
   "source": [
    "daily_ops = df.groupby([\"Date\", \"Type\"]).agg(\"Volume\").count()\n",
    "daily_ops"
   ]
  },
  {
   "cell_type": "markdown",
   "metadata": {},
   "source": [
    "### Monthly recharge and RTP operations"
   ]
  },
  {
   "cell_type": "code",
   "execution_count": 12,
   "metadata": {},
   "outputs": [
    {
     "data": {
      "text/plain": [
       "Date  Type    \n",
       "1     RTP        -435255.049280\n",
       "      Recharge    714357.017969\n",
       "2     RTP        -464362.840937\n",
       "      Recharge    655456.955929\n",
       "3     RTP        -510517.134215\n",
       "      Recharge    720676.294169\n",
       "4     RTP        -502619.735388\n",
       "      Recharge    691237.961167\n",
       "5     RTP        -236165.799162\n",
       "      Recharge    330373.033372\n",
       "Name: Volume, dtype: float64"
      ]
     },
     "execution_count": 12,
     "metadata": {},
     "output_type": "execute_result"
    }
   ],
   "source": [
    "monthly_volume= df.groupby([df.Date.dt.month,\"Type\"]).agg(\"Volume\").sum()/100\n",
    "monthly_volume"
   ]
  },
  {
   "cell_type": "markdown",
   "metadata": {},
   "source": [
    "### Customer Profile : "
   ]
  },
  {
   "cell_type": "code",
   "execution_count": 58,
   "metadata": {},
   "outputs": [],
   "source": [
    "def profile_customer(frame , id) : \n",
    "    user_df = frame[frame[\"ID_User\"] == id]\n",
    "    solde = round(user_df[\"amount_solde\"].sum(),2)\n",
    "    customer_monthly_ops = user_df.groupby([user_df.Date.dt.month, \"Type\"]).agg(\"Volume\").count()\n",
    "    process_rtp_rate = round(len(user_df[(user_df[\"Type\"] == \"RTP\") & user_df[\"Status\"] == 1]) / len(user_df[(user_df[\"Type\"] == \"RTP\")])*100,2)\n",
    "    return {\n",
    "        \"solde\" : solde,\n",
    "        \"customer_monthly_ops\" : customer_monthly_ops,\n",
    "        \"process_rtp_rate\": process_rtp_rate\n",
    "    }\n",
    "    "
   ]
  },
  {
   "cell_type": "code",
   "execution_count": 51,
   "metadata": {},
   "outputs": [
    {
     "data": {
      "text/plain": [
       "-573.99"
      ]
     },
     "execution_count": 51,
     "metadata": {},
     "output_type": "execute_result"
    }
   ],
   "source": [
    "profile_customer(df, 1)[\"solde\"]"
   ]
  },
  {
   "cell_type": "code",
   "execution_count": 53,
   "metadata": {},
   "outputs": [
    {
     "data": {
      "text/plain": [
       "96.24"
      ]
     },
     "execution_count": 53,
     "metadata": {},
     "output_type": "execute_result"
    }
   ],
   "source": [
    "profile_customer(df, 1)[\"process_rtp_rate\"]"
   ]
  },
  {
   "cell_type": "code",
   "execution_count": 48,
   "metadata": {},
   "outputs": [],
   "source": [
    "df[\"amount_solde\"] = df[\"Volume\"] /100"
   ]
  },
  {
   "cell_type": "code",
   "execution_count": 63,
   "metadata": {},
   "outputs": [
    {
     "data": {
      "text/plain": [
       "Date\n",
       "1    226646\n",
       "2    223879\n",
       "3    245659\n",
       "4    238903\n",
       "5    113488\n",
       "Name: Volume, dtype: int64"
      ]
     },
     "execution_count": 63,
     "metadata": {},
     "output_type": "execute_result"
    }
   ],
   "source": [
    "df.groupby(df.Date.dt.month).agg(\"Volume\").count()"
   ]
  }
 ],
 "metadata": {
  "kernelspec": {
   "display_name": "Python 3.9.12 ('base')",
   "language": "python",
   "name": "python3"
  },
  "language_info": {
   "codemirror_mode": {
    "name": "ipython",
    "version": 3
   },
   "file_extension": ".py",
   "mimetype": "text/x-python",
   "name": "python",
   "nbconvert_exporter": "python",
   "pygments_lexer": "ipython3",
   "version": "3.9.12"
  },
  "orig_nbformat": 4,
  "vscode": {
   "interpreter": {
    "hash": "d9e62eab86bd436d2fce80d102761ec72269157a435bf8bd5d187ffe0db7b4ef"
   }
  }
 },
 "nbformat": 4,
 "nbformat_minor": 2
}
